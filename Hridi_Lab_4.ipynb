{
  "nbformat": 4,
  "nbformat_minor": 0,
  "metadata": {
    "colab": {
      "provenance": []
    },
    "kernelspec": {
      "name": "python3",
      "display_name": "Python 3"
    },
    "language_info": {
      "name": "python"
    }
  },
  "cells": [
    {
      "cell_type": "code",
      "source": [
        "!pip install pycryptodome\n"
      ],
      "metadata": {
        "colab": {
          "base_uri": "https://localhost:8080/"
        },
        "id": "kgYKEtyrDQou",
        "outputId": "f3e1b2e2-49d7-4074-f1ef-f6a74cb602f9"
      },
      "execution_count": 19,
      "outputs": [
        {
          "output_type": "stream",
          "name": "stdout",
          "text": [
            "Requirement already satisfied: pycryptodome in /usr/local/lib/python3.10/dist-packages (3.20.0)\n"
          ]
        }
      ]
    },
    {
      "cell_type": "code",
      "source": [
        "import time\n",
        "import matplotlib.pyplot as plt\n",
        "from Crypto.Cipher import AES, PKCS1_OAEP\n",
        "from Crypto.PublicKey import RSA\n",
        "from Crypto.Hash import SHA256\n",
        "from Crypto.Signature import pkcs1_15\n",
        "from Crypto.Random import get_random_bytes\n",
        "from Crypto.Util.Padding import pad, unpad\n"
      ],
      "metadata": {
        "id": "iicB0Xb_DWb8"
      },
      "execution_count": 20,
      "outputs": []
    },
    {
      "cell_type": "code",
      "source": [
        "def create_aes_key(bits):\n",
        "    aes_key = get_random_bytes(bits // 8)\n",
        "    with open(f'aes_key_{bits}.bin', 'wb') as key_file:\n",
        "        key_file.write(aes_key)\n",
        "    return aes_key\n",
        "\n",
        "def create_rsa_keys(bits):\n",
        "    rsa_key = RSA.generate(bits)\n",
        "    private_key = rsa_key.export_key()\n",
        "    public_key = rsa_key.publickey().export_key()\n",
        "    with open(f'rsa_private_key_{bits}.pem', 'wb') as prv_file:\n",
        "        prv_file.write(private_key)\n",
        "    with open(f'rsa_public_key_{bits}.pem', 'wb') as pub_file:\n",
        "        pub_file.write(public_key)\n",
        "    return private_key, public_key\n",
        "\n",
        "# Example usage\n",
        "aes_key_128 = create_aes_key(128)\n",
        "rsa_priv_key, rsa_pub_key = create_rsa_keys(2048)\n"
      ],
      "metadata": {
        "id": "iAK-20OdDZS-"
      },
      "execution_count": 21,
      "outputs": []
    },
    {
      "cell_type": "code",
      "source": [
        "def aes_encrypt(data, key, mode):\n",
        "    aes_cipher = AES.new(key, mode)\n",
        "    encrypted_data = aes_cipher.encrypt(pad(data, AES.block_size))\n",
        "    return encrypted_data\n",
        "\n",
        "def aes_decrypt(encrypted_data, key, mode):\n",
        "    aes_cipher = AES.new(key, mode)\n",
        "    decrypted_data = unpad(aes_cipher.decrypt(encrypted_data), AES.block_size)\n",
        "    return decrypted_data\n",
        "\n",
        "# Example usage\n",
        "data = b\"Sample encryption data\"\n",
        "cipher_data = aes_encrypt(data, aes_key_128, AES.MODE_ECB)\n",
        "plain_data = aes_decrypt(cipher_data, aes_key_128, AES.MODE_ECB)\n",
        "print(plain_data)\n"
      ],
      "metadata": {
        "colab": {
          "base_uri": "https://localhost:8080/"
        },
        "id": "nc-iCi-TDab0",
        "outputId": "c8eb1c6a-0fa5-49a7-ef90-db18404bd466"
      },
      "execution_count": 22,
      "outputs": [
        {
          "output_type": "stream",
          "name": "stdout",
          "text": [
            "b'Sample encryption data'\n"
          ]
        }
      ]
    },
    {
      "cell_type": "code",
      "source": [
        "def rsa_encrypt(data, pub_key):\n",
        "    rsa_cipher = PKCS1_OAEP.new(RSA.import_key(pub_key))\n",
        "    encrypted_data = rsa_cipher.encrypt(data)\n",
        "    return encrypted_data\n",
        "\n",
        "def rsa_decrypt(encrypted_data, priv_key):\n",
        "    rsa_cipher = PKCS1_OAEP.new(RSA.import_key(priv_key))\n",
        "    decrypted_data = rsa_cipher.decrypt(encrypted_data)\n",
        "    return decrypted_data\n",
        "\n",
        "# Example usage\n",
        "cipher_data = rsa_encrypt(data, rsa_pub_key)\n",
        "plain_data = rsa_decrypt(cipher_data, rsa_priv_key)\n",
        "print(plain_data)\n"
      ],
      "metadata": {
        "colab": {
          "base_uri": "https://localhost:8080/"
        },
        "id": "EL_mCf3BDc18",
        "outputId": "c2129dca-8d0d-4ab4-c78f-33806532b896"
      },
      "execution_count": 23,
      "outputs": [
        {
          "output_type": "stream",
          "name": "stdout",
          "text": [
            "b'Sample encryption data'\n"
          ]
        }
      ]
    },
    {
      "cell_type": "code",
      "source": [
        "def rsa_sign(data, priv_key):\n",
        "    rsa_key = RSA.import_key(priv_key)\n",
        "    hash_data = SHA256.new(data)\n",
        "    signature = pkcs1_15.new(rsa_key).sign(hash_data)\n",
        "    return signature\n",
        "\n",
        "def rsa_verify(data, signature, pub_key):\n",
        "    rsa_key = RSA.import_key(pub_key)\n",
        "    hash_data = SHA256.new(data)\n",
        "    try:\n",
        "        pkcs1_15.new(rsa_key).verify(hash_data, signature)\n",
        "        return True\n",
        "    except (ValueError, TypeError):\n",
        "        return False\n",
        "\n",
        "# Example usage\n",
        "signature = rsa_sign(data, rsa_priv_key)\n",
        "print(rsa_verify(data, signature, rsa_pub_key))\n"
      ],
      "metadata": {
        "colab": {
          "base_uri": "https://localhost:8080/"
        },
        "id": "sw6O2VLADfMM",
        "outputId": "3af479ff-d6c7-45eb-cad9-7bddc4b9fdd8"
      },
      "execution_count": 24,
      "outputs": [
        {
          "output_type": "stream",
          "name": "stdout",
          "text": [
            "True\n"
          ]
        }
      ]
    },
    {
      "cell_type": "code",
      "source": [
        "def sha256_hash(data):\n",
        "    hash_obj = SHA256.new()\n",
        "    hash_obj.update(data)\n",
        "    return hash_obj.hexdigest()\n",
        "\n",
        "# Example usage\n",
        "print(sha256_hash(data))\n"
      ],
      "metadata": {
        "colab": {
          "base_uri": "https://localhost:8080/"
        },
        "id": "ZZIi43ZQDhsM",
        "outputId": "a02aaf98-6f50-4471-8427-947a3e01316e"
      },
      "execution_count": 25,
      "outputs": [
        {
          "output_type": "stream",
          "name": "stdout",
          "text": [
            "7f15e1c8aef5353261c8c5ea2da2749a6d57decd968ccfdf5bf7c51e06f739c5\n"
          ]
        }
      ]
    },
    {
      "cell_type": "code",
      "source": [
        "def measure_exec_time(func, *args):\n",
        "    start = time.time()\n",
        "    result = func(*args)\n",
        "    end = time.time()\n",
        "    exec_time = end - start\n",
        "    return exec_time, result\n",
        "\n",
        "# Valid AES key sizes: 128 bits (16 bytes), 192 bits (24 bytes), and 256 bits (32 bytes)\n",
        "aes_key_sizes = [16, 24, 32]\n",
        "exec_times = []\n",
        "\n",
        "for key_size in aes_key_sizes:\n",
        "    aes_key = create_aes_key(key_size * 8)\n",
        "    exec_time, _ = measure_exec_time(aes_encrypt, data, aes_key, AES.MODE_ECB)\n",
        "    exec_times.append(exec_time)\n",
        "\n",
        "plt.plot([size * 8 for size in aes_key_sizes], exec_times)\n",
        "plt.xlabel('Key Size (bits)')\n",
        "plt.ylabel('Execution Time (seconds)')\n",
        "plt.title('AES Encryption Execution Time vs Key Size')\n",
        "plt.show()\n"
      ],
      "metadata": {
        "colab": {
          "base_uri": "https://localhost:8080/",
          "height": 472
        },
        "id": "JPo1o9e_Dj7k",
        "outputId": "61ab3747-dcae-4b00-890c-f3056e23dedb"
      },
      "execution_count": 26,
      "outputs": [
        {
          "output_type": "display_data",
          "data": {
            "text/plain": [
              "<Figure size 640x480 with 1 Axes>"
            ],
            "image/png": "[encoded data removed]"
          },
          "metadata": {}
        }
      ]
    },
    {
      "cell_type": "code",
      "source": [
        "def main():\n",
        "    while True:\n",
        "        print(\"\\nSelect a cryptographic operation:\")\n",
        "        print(\"1. AES Encryption/Decryption\")\n",
        "        print(\"2. RSA Encryption/Decryption\")\n",
        "        print(\"3. RSA Signature\")\n",
        "        print(\"4. SHA-256 Hashing\")\n",
        "        print(\"5. Exit\")\n",
        "\n",
        "        option = input(\"Enter your choice: \")\n",
        "\n",
        "        if option == '1':\n",
        "            mode = AES.MODE_ECB if input(\"Choose mode (ECB/CFB): \").upper() == 'ECB' else AES.MODE_CFB\n",
        "            key_size = int(input(\"Enter AES key size (128/256): \"))\n",
        "            aes_key = create_aes_key(key_size)\n",
        "            data = input(\"Enter data to encrypt: \").encode()\n",
        "            encrypted = aes_encrypt(data, aes_key, mode)\n",
        "            print(f\"Encrypted data: {encrypted}\")\n",
        "            decrypted = aes_decrypt(encrypted, aes_key, mode)\n",
        "            print(f\"Decrypted data: {decrypted}\")\n",
        "        elif option == '2':\n",
        "            data = input(\"Enter data to encrypt: \").encode()\n",
        "            rsa_priv_key, rsa_pub_key = create_rsa_keys(2048)\n",
        "            encrypted = rsa_encrypt(data, rsa_pub_key)\n",
        "            print(f\"Encrypted data: {encrypted}\")\n",
        "            decrypted = rsa_decrypt(encrypted, rsa_priv_key)\n",
        "            print(f\"Decrypted data: {decrypted}\")\n",
        "        elif option == '3':\n",
        "            data = input(\"Enter data to sign: \").encode()\n",
        "            rsa_priv_key, rsa_pub_key = create_rsa_keys(2048)\n",
        "            signature = rsa_sign(data, rsa_priv_key)\n",
        "            print(f\"Signature: {signature}\")\n",
        "            verified = rsa_verify(data, signature, rsa_pub_key)\n",
        "            print(f\"Signature verified: {verified}\")\n",
        "        elif option == '4':\n",
        "            data = input(\"Enter data to hash: \").encode()\n",
        "            hash_value = sha256_hash(data)\n",
        "            print(f\"SHA-256 Hash: {hash_value}\")\n",
        "        elif option == '5':\n",
        "            break\n",
        "        else:\n",
        "            print(\"Invalid option, please try again.\")\n",
        "\n",
        "if __name__ == \"__main__\":\n",
        "    main()\n"
      ],
      "metadata": {
        "colab": {
          "base_uri": "https://localhost:8080/"
        },
        "id": "X2JeWAATDnMt",
        "outputId": "693b6cdf-7c62-4e85-9c08-c8ded0b49033"
      },
      "execution_count": 27,
      "outputs": [
        {
          "name": "stdout",
          "output_type": "stream",
          "text": [
            "\n",
            "Select a cryptographic operation:\n",
            "1. AES Encryption/Decryption\n",
            "2. RSA Encryption/Decryption\n",
            "3. RSA Signature\n",
            "4. SHA-256 Hashing\n",
            "5. Exit\n",
            "Enter your choice: 1\n",
            "Choose mode (ECB/CFB): ECB\n",
            "Enter AES key size (128/256): 128\n",
            "Enter data to encrypt: My name is Hridi\n",
            "Encrypted data: b'\\xd31\"\\x03\\x10\\xb22\\xf2]0\\x8cw\\x86\\xd74]0\\xd6\\x95t\\x91G~\\x00\\xa3<\\xf7\\xdc\\x1b\\xf4\\xc0a'\n",
            "Decrypted data: b'My name is Hridi'\n",
            "\n",
            "Select a cryptographic operation:\n",
            "1. AES Encryption/Decryption\n",
            "2. RSA Encryption/Decryption\n",
            "3. RSA Signature\n",
            "4. SHA-256 Hashing\n",
            "5. Exit\n",
            "Enter your choice: 2\n",
            "Enter data to encrypt: My name is Hridi\n",
            "Encrypted data: b\"Z\\x86\\xb6\\xe7\\xb5\\xe7\\x95\\xd6\\xc27\\x1e\\xf3\\x0cD}8\\xbf2\\xc3\\x84,:t$\\xaf\\xa0\\x19\\x1b\\xb2\\x9es\\xdc|_\\xd0\\xe7\\x19\\xe4\\x11.*\\x0f\\xdf\\xd2\\xf1\\x8a\\x0f\\xc5\\xbb\\x81-\\xc2\\xb44\\xadf7\\xceE\\xc4T\\x92H\\x0bZ\\xec\\x00r\\x9f\\xa4f\\x9e\\x84\\x94G\\x85\\xd3r=\\r/e\\xa9\\xb0'\\xbei\\xc3\\xe0+\\xeey]\\xb6\\xef\\x87\\x00\\xb3EX\\xcb\\x16\\xbc\\xce\\x18\\x9d\\xfa\\x083\\xd8\\xdb\\xf2\\xd4\\x10\\xb8\\xd7\\xe1\\xc6\\xf5K\\xfd\\xe2\\xd8\\xd2\\xf7\\x10\\xfe\\x1d`,\\xeefu:\\x9a\\xc2\\x0f\\xa9\\xa1\\xf71\\xd8\\xa1g\\xb0\\x16\\x92B\\t\\xcc.\\xe9l29Tm\\x85&9<\\xb6\\x82\\xb0\\xcd\\x95\\xb9\\x9e\\nfP\\x86.;Z\\x06\\xaa\\x8b\\xd31\\xe5\\xaf!\\xce\\xa7^\\x0cp\\xbbc\\xf8\\xe3\\xf8\\x15\\xf3Q\\xb1i\\xa9\\xafv\\x9a\\xd0c\\xb9q$T\\xb9Vd\\xc3\\x13\\xa3\\xbf\\xd9\\xfd&\\xb9+\\x8e\\xde,\\xf7mK\\xc02\\xac\\xdb/^\\x04\\x01\\x92\\xff\\xe3\\tj\\xd5\\x1b+\\xa8\\xbc\\xc4<\\x1e\\xea\\x86l\\x9a\\xe6Zt\\x81\\x19\"\n",
            "Decrypted data: b'My name is Hridi'\n",
            "\n",
            "Select a cryptographic operation:\n",
            "1. AES Encryption/Decryption\n",
            "2. RSA Encryption/Decryption\n",
            "3. RSA Signature\n",
            "4. SHA-256 Hashing\n",
            "5. Exit\n",
            "Enter your choice: 3\n",
            "Enter data to sign: Hello\n",
            "Signature: b\"O[h2\\r\\xfb\\xaar,\\xf9\\xfc\\xef\\x02\\x18'\\x8ep\\xb4\\x90\\t\\xccKO<q\\x85^;`\\xd92\\x85+\\x1d7\\xf3\\x9dG\\x8a\\xa0y\\xdb\\x8fZ\\x1a\\xa1\\xde\\x10\\x8dy\\xa30\\x82\\xf4j\\n\\xcbR\\xb0\\xe6\\x11G\\xcc\\x9c\\x04\\xdc\\xf4R\\xa7\\xc3\\xe4\\x1b\\x1b\\x8d\\x93|\\x0e\\xf7,\\xc9\\xd7T\\xe8H\\xd8.\\x10M\\xae\\x8a\\xfe=\\xb8r\\xc7\\x02#\\xa8\\xf5\\x064x\\x8ct|)\\xd6\\xc8\\xbb\\x04H\\xb29\\xb7\\x97-\\x86V\\xa4\\x03\\x93\\xb9\\x02\\x19z\\xb3|\\xe5\\x85\\xe5\\xf0\\xd9t\\xd1sxL\\xa1\\xbft\\xb1\\xb6\\xf3JuE\\x83\\x92\\x99\\xa4\\xb4\\x1e&\\xe6\\xb1\\xed\\xcaw\\t\\x18\\x94\\xd5\\x9b\\xaa\\xb5\\xda\\x85\\x08\\xc7f\\xe3\\xe4b\\x05\\xc8\\xb7\\x92\\xf8\\xe5\\xd2\\xcb\\x13\\xae\\x11\\xfb\\xf1x\\xf0\\x8fm\\x8f\\x92\\xa5qi\\xdd\\x96\\x8c\\x10x\\x1b\\xb1I\\x9a\\x08X\\x8e\\x12\\xeb\\xd1\\x9c\\x12\\xf5{\\x90\\t\\x9b\\xe6o\\n\\xe2\\xf4)\\x07\\xcf\\x82\\x8b\\x8fv`\\x87\\\\e\\x12\\xfb\\xca\\xd5q\\x97\\ny\\x8d\\xbe\\xdan;\\xae\\xbd\\xfb\\x0f\\x11o\\x98\\x95\\x03\\xc4\"\n",
            "Signature verified: True\n",
            "\n",
            "Select a cryptographic operation:\n",
            "1. AES Encryption/Decryption\n",
            "2. RSA Encryption/Decryption\n",
            "3. RSA Signature\n",
            "4. SHA-256 Hashing\n",
            "5. Exit\n",
            "Enter your choice: 4\n",
            "Enter data to hash: The right time will come\n",
            "SHA-256 Hash: 857b0f0d9f4f2f8f8c2c2be8ada8b2f34b2935f5cc67d7544760ad15495d00ea\n",
            "\n",
            "Select a cryptographic operation:\n",
            "1. AES Encryption/Decryption\n",
            "2. RSA Encryption/Decryption\n",
            "3. RSA Signature\n",
            "4. SHA-256 Hashing\n",
            "5. Exit\n",
            "Enter your choice: 5\n"
          ]
        }
      ]
    }
  ]
}